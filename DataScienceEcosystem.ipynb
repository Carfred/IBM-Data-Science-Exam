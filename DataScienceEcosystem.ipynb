{
 "cells": [
  {
   "cell_type": "markdown",
   "id": "3cb10156",
   "metadata": {},
   "source": [
    "   # Data Science Tools and Ecosystem"
   ]
  },
  {
   "cell_type": "markdown",
   "id": "850d9a14",
   "metadata": {},
   "source": [
    "In this notebook, Data Science Tools and Ecosystem are summarized."
   ]
  },
  {
   "cell_type": "markdown",
   "id": "1f446431",
   "metadata": {},
   "source": [
    "**Objectives:**\n",
    "- List popular languages for Data Science\n",
    "- Commonly used libraries for Data Science\n",
    "- Some Data Science Tools"
   ]
  },
  {
   "cell_type": "markdown",
   "id": "b27bf4b1",
   "metadata": {},
   "source": [
    "## Author\n",
    "Carlos Frederico P. S. Filho"
   ]
  },
  {
   "cell_type": "markdown",
   "id": "c1f84c39",
   "metadata": {},
   "source": [
    "Some of the popular languages that Data Scientists use are:\n",
    "1. Python\n",
    "2. R\n",
    "3. SQL"
   ]
  },
  {
   "cell_type": "markdown",
   "id": "a68c1d77",
   "metadata": {},
   "source": [
    "Some of the commonly used libraries used by Data Scientists include:\n",
    "\n",
    "1. NumPy: A library for numerical computing in Python.\n",
    "2. Pandas: A library for data manipulation and analysis.\n",
    "3. Matplotlib: A library for creating visualizations, such as graphs and charts.\n",
    "4. Seaborn: A library for creating statistical visualizations.\n",
    "5. Scikit-learn: A library for machine learning, including classification, regression, and clustering.\n",
    "6. TensorFlow: A library for building and training machine learning models, particularly deep neural networks.\n",
    "7. Keras: A high-level neural networks API, written in Python and capable of running on top of TensorFlow, CNTK, or Theano.\n",
    "8. PyTorch: A library for building and training machine learning models, particularly deep neural networks.\n",
    "9. SciPy: A library for scientific computing, including optimization, signal processing, and linear algebra."
   ]
  },
  {
   "cell_type": "markdown",
   "id": "cebe9f17",
   "metadata": {},
   "source": [
    "| Data Science Tools |\n",
    "| :-: |\n",
    "| Jupyter Notebook |\n",
    "| RStudio |\n",
    "| Spider |\n"
   ]
  },
  {
   "cell_type": "markdown",
   "id": "cafb571e",
   "metadata": {},
   "source": [
    "### Below are a few examples of evaluating arithmetic expressions in Python"
   ]
  },
  {
   "cell_type": "code",
   "execution_count": 2,
   "id": "c2be802d",
   "metadata": {},
   "outputs": [
    {
     "data": {
      "text/plain": [
       "17"
      ]
     },
     "execution_count": 2,
     "metadata": {},
     "output_type": "execute_result"
    }
   ],
   "source": [
    "#This a simple arithmetic expression to mutiply #then add integers\n",
    "(3*4)+5"
   ]
  },
  {
   "cell_type": "code",
   "execution_count": 3,
   "id": "7b529e1d",
   "metadata": {},
   "outputs": [
    {
     "data": {
      "text/plain": [
       "3.3333333333333335"
      ]
     },
     "execution_count": 3,
     "metadata": {},
     "output_type": "execute_result"
    }
   ],
   "source": [
    "# This will convert 200 minutes to hours by diving by 60\n",
    "200/60"
   ]
  }
 ],
 "metadata": {
  "kernelspec": {
   "display_name": "Python 3 (ipykernel)",
   "language": "python",
   "name": "python3"
  },
  "language_info": {
   "codemirror_mode": {
    "name": "ipython",
    "version": 3
   },
   "file_extension": ".py",
   "mimetype": "text/x-python",
   "name": "python",
   "nbconvert_exporter": "python",
   "pygments_lexer": "ipython3",
   "version": "3.9.13"
  }
 },
 "nbformat": 4,
 "nbformat_minor": 5
}
